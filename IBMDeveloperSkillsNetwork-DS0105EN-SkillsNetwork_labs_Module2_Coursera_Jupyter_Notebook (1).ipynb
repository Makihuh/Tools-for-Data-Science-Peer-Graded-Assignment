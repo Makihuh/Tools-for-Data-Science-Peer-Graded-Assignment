{
  "metadata": {
    "kernelspec": {
      "name": "python",
      "display_name": "Pyolite",
      "language": "python"
    },
    "language_info": {
      "codemirror_mode": {
        "name": "python",
        "version": 3
      },
      "file_extension": ".py",
      "mimetype": "text/x-python",
      "name": "python",
      "nbconvert_exporter": "python",
      "pygments_lexer": "ipython3",
      "version": "3.8"
    }
  },
  "nbformat_minor": 4,
  "nbformat": 4,
  "cells": [
    {
      "cell_type": "markdown",
      "source": "<center>\n    <img src=\"https://cf-courses-data.s3.us.cloud-object-storage.appdomain.cloud/IBMDeveloperSkillsNetwork-DS0105EN-SkillsNetwork/labs/Module2/images/SN_web_lightmode.png\" width=\"300\" alt=\"cognitiveclass.ai logo\"  />\n</center>\n",
      "metadata": {}
    },
    {
      "cell_type": "markdown",
      "source": "#### Add your code below following the instructions given in the course\n",
      "metadata": {}
    },
    {
      "cell_type": "markdown",
      "source": "# My Jupyter Notebook onn IBM Watson Studio",
      "metadata": {}
    },
    {
      "cell_type": "markdown",
      "source": "**Carter Hood**\n\nCounseling Psychologist",
      "metadata": {}
    },
    {
      "cell_type": "markdown",
      "source": "*I am interested in Data Science since it will enhance my research skills. By having coding skills and knowledge in data science, I will be able to produce higher quality research since I will know how to work with the data to derive answers and insights from it.*",
      "metadata": {}
    },
    {
      "cell_type": "markdown",
      "source": "### My code is in the next cell defines what numbers a and b are. c defines the addition of a and b. A print function is then added to write out that a + b = the solution for c",
      "metadata": {}
    },
    {
      "cell_type": "code",
      "source": "a = 1\nb = 2\nc = a + b\nprint(\"a + b =\",c)",
      "metadata": {
        "trusted": true
      },
      "execution_count": 10,
      "outputs": [
        {
          "name": "stdout",
          "text": "a + b = 3\n",
          "output_type": "stream"
        }
      ]
    },
    {
      "cell_type": "markdown",
      "source": "* This is a bullet list\n* This is a bullet list\n* This is a bullet list\n\n1. This is a numbered list\n2. This is a numbered list\n3. This is a numbered list\n\n`This is highlighted syntax`",
      "metadata": {}
    }
  ]
}